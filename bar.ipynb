{
 "cells": [
  {
   "cell_type": "code",
   "execution_count": 5,
   "metadata": {},
   "outputs": [
    {
     "data": {
      "text/plain": [
       "Ajedrez        6\n",
       "Basquet        5\n",
       "Futbol         5\n",
       "Karaoke        5\n",
       "Voley          4\n",
       "Judo           4\n",
       "Musica         4\n",
       "Informatica    2\n",
       "Criquet        2\n",
       "Reposteria     1\n",
       "Teatro         1\n",
       "Lectura        1\n",
       "Beisbol        1\n",
       "Name: Aficion principal, dtype: int64"
      ]
     },
     "execution_count": 5,
     "metadata": {},
     "output_type": "execute_result"
    }
   ],
   "source": [
    "import pandas as pd\n",
    "import matplotlib.pyplot as plt\n",
    "import numpy as np\n",
    "\n",
    "columnas = [\"Nombres\", \"Aficion principal\", \"Pais\"]\n",
    "\n",
    "nombres = [\"Antonio\", \"Liliana\", \"Ana\", \"Daniel\", \"Luis\", \"Laura\", \"Julio\", \"Jorge\", \"Tania\", \"Cintia\", \"Ana\", \"Jose\", \n",
    "           \"Carlos\", \"Julia\", \"Pedro\", \"Ester\", \"Alberto\", \"Tatiana\", \"Pablo\", \"Marta\", \"Jorge\", \"Rosa\", \"Jesica\", \n",
    "           \"Ursula\", \"Luis\", \"Jose\", \"Miguel\", \"Raul\", \"Susana\", \"Vanesa\", \"Hiroshi\", \"Frank\", \"Anand\", \"Farah\", \"Jiyu\",\n",
    "           \"Kumar\", \"Chang Min\", \"Rose\", \"Bastian\", \"Olga\", \"Jim\"]\n",
    "\n",
    "aficion_principal = [\"Basquet\", \"Futbol\", \"Informatica\", \"Ajedrez\", \"Voley\", \"Futbol\", \"Ajedrez\", \"Karaoke\", \"Judo\",\n",
    "                     \"Musica\", \"Reposteria\", \"Futbol\", \"Informatica\", \"Basquet\", \"Karaoke\", \"Musica\", \"Judo\", \"Teatro\",\n",
    "                     \"Futbol\", \"Karaoke\", \"Lectura\", \"Futbol\", \"Voley\", \"Judo\", \"Ajedrez\", \"Voley\", \"Ajedrez\", \"Ajedrez\",\n",
    "                     \"Karaoke\", \"Basquet\", \"Beisbol\", \"Basquet\", \"Criquet\", \"Voley\", \"Musica\", \"Criquet\", \"Basquet\", \n",
    "                     \"Musica\", \"Judo\", \"Ajedrez\", \"Karaoke\"]\n",
    "\n",
    "pais = [\"Italia\", \"Argentina\", \"Cuba\", \"Colombia\", \"Venezuela\", \"Argentina\", \"Usa\", \"Brasil\", \"Peru\", \"Colombia\", \"Alemania\",\n",
    "         \"Sudafrica\", \"Chile\", \"Bolivia\", \"Costa Rica\" , \"Panama\", \"Mexico\", \"Colombia\", \"Argentina\", \"España\", \"Honduras\", \n",
    "         \"Francia\", \"Peru\", \"Mexico\", \"Brasil\", \"Ecuador\", \"Usa\", \"Mexico\", \"Canada\", \"Argentina\", \"Japon\", \"Australia\",\n",
    "         \"India\", \"Iran\", \"Corea del sur\", \"India\", \"China\", \"Reino Unido\", \"Francia\", \"Rusia\", \"Philipinas\"]\n",
    "\n",
    "datos = list(zip(nombres, aficion_principal, pais))\n",
    "\n",
    "# Creamos un dataframe con 3 columnas (Nombres, Aficion principal y Pais)\n",
    "df = pd.DataFrame(datos, columns=columnas)\n",
    "\n",
    "\"\"\"De la columna 'Aficion principal' vamos a contar cuantas personas existen para cada aficion dada; y esto se logra con el\n",
    "    metodo 'value_counts()' por lo tanto este metodo nos devolvera una lista de datos de tipo clave - valor, donde la clave \n",
    "    en este caso seria la aficion principal dada y el valor seria la cantidad de personas que tiene cada aficion \n",
    "    correspondiente.\n",
    "    Por lo tanto lo que nos devuelve este metodo lo almacenaremos en una variable llamada dicc\"\"\"\n",
    "\n",
    "dicc = df['Aficion principal'].value_counts()\n",
    "dicc\n",
    "\n"
   ]
  },
  {
   "cell_type": "markdown",
   "metadata": {},
   "source": [
    "Como la variable dicc es un diccionario, podemos obtener sus claves con el metodo keys()\n",
    " y lo almacenaremos en la variable aficiones."
   ]
  },
  {
   "cell_type": "code",
   "execution_count": 6,
   "metadata": {},
   "outputs": [
    {
     "name": "stdout",
     "output_type": "stream",
     "text": [
      "Index(['Ajedrez', 'Basquet', 'Futbol', 'Karaoke', 'Voley', 'Judo', 'Musica',\n",
      "       'Informatica', 'Criquet', 'Reposteria', 'Teatro', 'Lectura', 'Beisbol'],\n",
      "      dtype='object')\n"
     ]
    }
   ],
   "source": [
    "aficiones = dicc.keys()\n",
    "print(aficiones)\n",
    "\n"
   ]
  },
  {
   "cell_type": "markdown",
   "metadata": {},
   "source": [
    "Del mismo modo obtendremos los valores de la variable dicc con el metodo values y lo\n",
    " almacenaremos en la variable cantidades."
   ]
  },
  {
   "cell_type": "code",
   "execution_count": 7,
   "metadata": {},
   "outputs": [
    {
     "name": "stdout",
     "output_type": "stream",
     "text": [
      "[6 5 5 5 4 4 4 2 2 1 1 1 1]\n"
     ]
    }
   ],
   "source": [
    "cantidades = dicc.values\n",
    "print(cantidades)\n",
    "\n"
   ]
  },
  {
   "cell_type": "code",
   "execution_count": 10,
   "metadata": {},
   "outputs": [
    {
     "data": {
      "image/png": "[encoded data removed]",
      "text/plain": [
       "<Figure size 640x480 with 1 Axes>"
      ]
     },
     "metadata": {},
     "output_type": "display_data"
    }
   ],
   "source": [
    "\"\"\" Con la funcion bar del modulo pyplot de matplotlib creamos un grafico de barras, donde el\n",
    "  eje x viene dado por la lista de claves que viene dado por la variable aficiones y el eje y\n",
    "  viene dado por la lista de valores que viene dado por la variable cantidades.\"\"\"\n",
    "plt.bar(aficiones, cantidades)\n",
    "\n",
    "\"\"\" La funcion xticks lo usamos para controlar las etiquetas en el eje x, en este caso queremos \n",
    "     queremos rotarlo verticalmente con el parametro (rotation= 'vertical')\"\"\"\n",
    "plt.xticks(rotation='vertical')\n",
    "\n",
    "# Colocamos la etiqueta \"Aficiones\" en el eje x  \n",
    "plt.xlabel(\"Aficiones\")\n",
    "\n",
    "# Colocamos la etiqueta \"personas por aficion\" en el eje y\n",
    "plt.ylabel(\"personas por aficion\")\n",
    "\n",
    "# Nos muestra en pantalla el grafico de barras\n",
    "plt.show()"
   ]
  }
 ],
 "metadata": {
  "kernelspec": {
   "display_name": "Python 3",
   "language": "python",
   "name": "python3"
  },
  "language_info": {
   "codemirror_mode": {
    "name": "ipython",
    "version": 3
   },
   "file_extension": ".py",
   "mimetype": "text/x-python",
   "name": "python",
   "nbconvert_exporter": "python",
   "pygments_lexer": "ipython3",
   "version": "3.10.7"
  },
  "orig_nbformat": 4
 },
 "nbformat": 4,
 "nbformat_minor": 2
}
