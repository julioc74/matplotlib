{
 "cells": [
  {
   "cell_type": "code",
   "execution_count": null,
   "metadata": {},
   "outputs": [
    {
     "name": "stdout",
     "output_type": "stream",
     "text": [
      "valores: [397 213 279 112 554 190 109 782 704 838 519 723 138 176 642 838  66 233\n",
      " 890 801  67 536  28 863 426 116 382 725 988 950 595 228 323 494 385 220\n",
      " 936 271 351 863 592 375 819 923 814 296 629  16  91 274 296 325 712 359\n",
      " 112 947 718 248  70 760  98 242 366 882 822 190 613 843 964 214 332 654\n",
      " 752 476 423  42 918 747 371 310 638 985 850 289 252 436 745 706  55 841\n",
      " 292  12 468 261 661 891 591 333 502 136]\n",
      "escalas de los valores: [ 4  3  3  2  6  2  2  8  8  9  6  8  2  2  7  9  1  3  9  9  1  6  1  9\n",
      "  5  2  4  8 10 10  6  3  4  5  4  3 10  3  4  9  6  4  9 10  9  3  7  1\n",
      "  1  3  3  4  8  4  2 10  8  3  1  8  1  3  4  9  9  2  7  9 10  3  4  7\n",
      "  8  5  5  1 10  8  4  4  7 10  9  3  3  5  8  8  1  9  3  1  5  3  7  9\n",
      "  6  4  6  2]\n",
      "frecuencia: [10  9 16 13  6  7  6 11 14  8]\n",
      "limites de los intervalos: [   1  101  201  301  401  501  601  701  801  901 1001]\n"
     ]
    }
   ],
   "source": [
    "import numpy as np\n",
    "\n",
    "# Genera 100 valores aleatorios entre 1 y 999\n",
    "valores = np.random.randint(1, 1000, size=100)\n",
    "\n",
    "# Define los límites de los intervalos\n",
    "bins = np.arange(1, 1101, 100)\n",
    "\n",
    "# Calcula el histograma automaticamente \n",
    "hist, edges = np.histogram(valores, bins=bins)\n",
    "\n",
    "\"\"\"La función digitize() de numpy clasifica los valores dentro de los bins(intervalos) y devuelve \n",
    "    el índice o escala del intervalo al cual pertenece dicho valor.\"\"\"\n",
    "escalas = np.digitize(valores, bins)\n",
    "\n",
    "print(\"valores:\", valores)\n",
    "print(\"escalas de los valores:\", escalas)\n",
    "print(\"frecuencia:\", hist )\n",
    "print(\"limites de los intervalos:\", edges)"
   ]
  }
 ],
 "metadata": {
  "kernelspec": {
   "display_name": "Python 3",
   "language": "python",
   "name": "python3"
  },
  "language_info": {
   "codemirror_mode": {
    "name": "ipython",
    "version": 3
   },
   "file_extension": ".py",
   "mimetype": "text/x-python",
   "name": "python",
   "nbconvert_exporter": "python",
   "pygments_lexer": "ipython3",
   "version": "3.10.7"
  }
 },
 "nbformat": 4,
 "nbformat_minor": 2
}
